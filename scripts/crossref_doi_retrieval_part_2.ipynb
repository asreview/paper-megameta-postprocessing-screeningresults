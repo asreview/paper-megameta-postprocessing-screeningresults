{
 "cells": [
  {
   "cell_type": "code",
   "execution_count": null,
   "metadata": {},
   "outputs": [],
   "source": [
    "import requests\n",
    "import pandas as pd\n",
    "import numpy as np\n",
    "from tqdm import  tqdm\n",
    "import string\n",
    "import urllib"
   ]
  },
  {
   "cell_type": "code",
   "execution_count": null,
   "metadata": {},
   "outputs": [],
   "source": [
    "# Reading the merged results file\n",
    "results_file_path = \"../output/megameta_merged_after_screening_asreview_part_1.xlsx\"\n",
    "resultsDF = pd.read_excel(results_file_path)"
   ]
  },
  {
   "cell_type": "markdown",
   "metadata": {},
   "source": [
    "# Trying to find DOIs through Crossref"
   ]
  },
  {
   "cell_type": "code",
   "execution_count": null,
   "metadata": {},
   "outputs": [],
   "source": [
    "# Define Crossref DOI finding function\n",
    "def crossref_doi_find(row):\n",
    "    \"\"\" Requests Crossref with title-year combination and returns DOI if good\n",
    "        enough match is found.\n",
    "\n",
    "    Args:\n",
    "        row: DataFrame row containing year and title.\n",
    "\n",
    "    Returns:\n",
    "        string: Probable DOI of a paper\n",
    "        None: If no good DOI could be found\n",
    "    \"\"\"\n",
    "\n",
    "    headers = {\"Accept\": \"application/json\"}\n",
    "    year = str(int(row.year))\n",
    "    url = 'https://api.crossref.org/works/?query.title=' + urllib.parse.quote(row.title) + \\\n",
    "        '&filter=from-pub-date:' + year + ',until-pub-date:' + year\n",
    "    r = requests.get(url, headers=headers)\n",
    "    first_entry = r.json()['message']['items'][0]\n",
    "    title, found_title = [s.translate(string.punctuation).lower() for s in [row.title, first_entry['title'][0]]]\n",
    "    perfect_match = (title in found_title) or (found_title in title)\n",
    "    if perfect_match:\n",
    "        return first_entry[\"DOI\"].lower()\n",
    "\n",
    "    return None\n",
    "\n",
    "# Set here the dataframe, for which you want to find missing DOIs\n",
    "doiFixedDF = resultsDF.copy()\n",
    "missing_doi_count = doiFixedDF.doi.isna().sum()\n",
    "print(\"Requesting Crossref to infer %d missing DOIs\" % missing_doi_count)\n",
    "for i, row in tqdm(doiFixedDF[doiFixedDF.doi.isna()].iterrows()):\n",
    "    doiFixedDF.loc[i, 'doi'] = crossref_doi_find(row)\n",
    "\n",
    "fixed_doi_count = missing_doi_count - doiFixedDF.doi.isna().sum()\n",
    "print(\"Of %d initially missing DOIs %d (%.2f%%) are found\" % (missing_doi_count, fixed_doi_count, 100 * fixed_doi_count/missing_doi_count))"
   ]
  },
  {
   "cell_type": "code",
   "execution_count": null,
   "metadata": {},
   "outputs": [],
   "source": [
    "print(\"Of %d initially missing DOIs %d (%.2f%%) are found\" % (missing_doi_count, fixed_doi_count, 100 * fixed_doi_count/missing_doi_count))"
   ]
  },
  {
   "cell_type": "markdown",
   "metadata": {},
   "source": [
    "## Fixing Unicode in DOIs and saving the file with fixed DOIs"
   ]
  },
  {
   "cell_type": "code",
   "execution_count": null,
   "metadata": {},
   "outputs": [],
   "source": [
    "# Fixing the Unicode encoding in some of DOIs\n",
    "doiFixedDF.loc[~doiFixedDF.doi.isna(), 'doi'] = doiFixedDF[~doiFixedDF.doi.isna()].doi.apply(urllib.parse.unquote)\n",
    "\n",
    "# Saving the fixed DOI file\n",
    "doiFixedDF.to_excel('../output/megameta_asreview_added_doi_part_2.xlsx', index=False)"
   ]
  }
 ],
 "metadata": {
  "interpreter": {
   "hash": "63fd5069d213b44bf678585dea6b12cceca9941eaf7f819626cde1f2670de90d"
  },
  "kernelspec": {
   "display_name": "Python 3 (ipykernel)",
   "language": "python",
   "name": "python3"
  },
  "language_info": {
   "codemirror_mode": {
    "name": "ipython",
    "version": 3
   },
   "file_extension": ".py",
   "mimetype": "text/x-python",
   "name": "python",
   "nbconvert_exporter": "python",
   "pygments_lexer": "ipython3",
   "version": "3.9.6"
  }
 },
 "nbformat": 4,
 "nbformat_minor": 2
}
